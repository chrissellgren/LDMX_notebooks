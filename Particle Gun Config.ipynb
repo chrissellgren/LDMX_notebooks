{
 "cells": [
  {
   "cell_type": "code",
   "execution_count": null,
   "id": "87359b14",
   "metadata": {},
   "outputs": [],
   "source": [
    "import numpy as np\n",
    "\n",
    "from LDMX.Framework import ldmxcfg\n",
    "\n",
    "p = ldmxcfg.Process('v3_v13')\n",
    "p.run = 1\n",
    "\n",
    "# importing necessary generator and simulator packages\n",
    "from LDMX.SimCore import simulator\n",
    "from LDMX.SimCore import generators\n",
    "\n",
    "\n",
    "# setting up the muon gun initial conditions\n",
    "xGun = 0.0 # in mm\n",
    "yGun = 0.0 # in mm\n",
    "degrees = 0\n",
    "theta = (np.pi / 180) * degrees # 17 degrees \n",
    "\n",
    "myGun = generators.gun('myGun')\n",
    "myGun.particle = 'kaon+'\n",
    "myGun.position = [ xGun, yGun, 0. ]  # in mm\n",
    "myGun.direction = [ -np.sin(theta), 0., np.cos(theta)] # unit vector 20 degrees from the z, towards positive x\n",
    "myGun.energy = 0.050 # in GeV\n",
    "​\n",
    "sim = simulator.simulator('sim')\n",
    "sim.generators = [myGun]\n",
    "sim.setDetector('ldmx-det-v13')\n",
    "sim.description = 'Kaon Gun Test Simulation'\n",
    "​\n",
    "# importing chip/geometry conditions\n",
    "from LDMX.Ecal import EcalGeometry\n",
    "from LDMX.Hcal import HcalGeometry\n",
    "import LDMX.Ecal.ecal_hardcoded_conditions as ecal_conditions\n",
    "import LDMX.Hcal.hcal_hardcoded_conditions as hcal_conditions\n",
    "​\n",
    "# import processor module\n",
    "import LDMX.Ecal.digi as ecal_digi\n",
    "import LDMX.Hcal.digi as hcal_digi\n",
    "​\n",
    "# setting the actions in order for simulation\n",
    "p.sequence = [\n",
    "    sim, \n",
    "    ecal_digi.EcalDigiProducer(),\n",
    "    ecal_digi.EcalRecProducer(),\n",
    "    hcal_digi.HcalDigiProducer(),\n",
    "    hcal_digi.HcalRecProducer()\n",
    "    ]\n",
    "​\n",
    "# output parameters\n",
    "p.outputFiles = [f'50mev_500kaon_ldmx-det-v13_forward.root']\n",
    "p.maxEvents = 1000\n",
    "p.logFrequency = 100\n",
    "p.maxTriesPerEvent = 1\n",
    "p.termLogLevel = 1\n",
    "print(p)"
   ]
  }
 ],
 "metadata": {
  "kernelspec": {
   "display_name": "Python 3 (ipykernel)",
   "language": "python",
   "name": "python3"
  },
  "language_info": {
   "codemirror_mode": {
    "name": "ipython",
    "version": 3
   },
   "file_extension": ".py",
   "mimetype": "text/x-python",
   "name": "python",
   "nbconvert_exporter": "python",
   "pygments_lexer": "ipython3",
   "version": "3.9.7"
  }
 },
 "nbformat": 4,
 "nbformat_minor": 5
}
